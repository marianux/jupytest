{
 "cells": [
  {
   "cell_type": "markdown",
   "metadata": {},
   "source": [
    "<img src=\"./logo_UTN.svg\" align=\"right\" width=\"150\" /> \n",
    "#### Teoría de Circuitos II\n",
    "\n",
    "# Problema desafío: Electrocardiografía para uso clínico\n",
    "\n"
   ]
  },
  {
   "cell_type": "markdown",
   "metadata": {},
   "source": [
    "Se pide diseñar un filtro analógico para limitar en banda una señal de electrocardiografía para uso clínico. Para ello se decide que la mejor solución deberá ser un filtro pasabanda de **máxima planicidad**,  que satisfaga la siguiente plantilla:\n",
    "\n",
    " * $\\omega_{s1}  = 0.2$ Hz\n",
    " * $\\omega_{p1}  = 2$ Hz\n",
    " * $\\omega_{p2}  = 35$ Hz\n",
    " * $\\omega_{s2}  = 50$ Hz\n",
    " * $\\alpha_{max}  = 1$ dB\n",
    " * $\\alpha_{min1}  = 34$ dB\n",
    " * $\\alpha_{min2}  =$ sin restricción\n",
    "\n",
    "a) Halle la expresión de la función transferencia del filtro pedido.\n",
    "\n"
   ]
  },
  {
   "cell_type": "markdown",
   "metadata": {},
   "source": [
    "<img src=\"./escriba_aqui.png\" align=\"center\" width=\"50%\" /> "
   ]
  },
  {
   "cell_type": "markdown",
   "metadata": {},
   "source": [
    "b) Simule la función transferencia y verifique el comportamiento. Indique la atenuación a 50Hz."
   ]
  },
  {
   "cell_type": "markdown",
   "metadata": {},
   "source": [
    "<div class=\"alert alert-block alert-success\">\n",
    "<b>Ayuda:</b> Puede simular la función transferencia normalizada con el siguiente script\n",
    "</div>"
   ]
  },
  {
   "cell_type": "code",
   "execution_count": 1,
   "metadata": {},
   "outputs": [],
   "source": [
    "# Módulos para Jupyter\n",
    "\n",
    "import numpy as np\n",
    "import matplotlib as mpl\n",
    "from matplotlib import pyplot as plt\n",
    "#%%  Inicialización de librerías\n",
    "# Setup inline graphics: Esto lo hacemos para que el tamaño de la salida, \n",
    "# sea un poco más adecuada al tamaño del documento\n",
    "mpl.rcParams['figure.figsize'] = (10,10)\n",
    "# un módulo adaptado a mis necesidades\n",
    "from splane import bodePlot, pzmap\n",
    "\n",
    "\n",
    "#%% Esto tiene que ver con cuestiones de presentación de los gráficos,\n",
    "# NO ES IMPORTANTE\n",
    "fig_sz_x = 14\n",
    "fig_sz_y = 13\n",
    "fig_dpi = 80 # dpi\n",
    "\n",
    "fig_font_family = 'Ubuntu'\n",
    "fig_font_size = 16\n",
    "\n",
    "plt.rcParams.update({'font.size':fig_font_size})\n",
    "plt.rcParams.update({'font.family':fig_font_family})\n",
    "\n",
    "# módulo de SciPy\n",
    "from scipy import signal as sig\n",
    "\n",
    "\n",
    "#############################################\n",
    "## A partir de aquí incluya su simulación  ##\n",
    "#############################################\n"
   ]
  },
  {
   "cell_type": "markdown",
   "metadata": {},
   "source": [
    "c) Implemente la función transferencia mediante resistencias, capacitores y amplificadores operacionales."
   ]
  },
  {
   "cell_type": "markdown",
   "metadata": {},
   "source": [
    "<img src=\"./escriba_aqui.png\" align=\"center\" width=\"50%\" /> "
   ]
  },
  {
   "cell_type": "markdown",
   "metadata": {},
   "source": [
    "<div class=\"alert alert-block alert-success\">\n",
    "<b>Opcional:</b> Puede simular el comportamiento de la red mediante LTspice</div>"
   ]
  }
 ],
 "metadata": {
  "kernelspec": {
   "display_name": "Python 3 (ipykernel)",
   "language": "python",
   "name": "python3"
  },
  "language_info": {
   "codemirror_mode": {
    "name": "ipython",
    "version": 3
   },
   "file_extension": ".py",
   "mimetype": "text/x-python",
   "name": "python",
   "nbconvert_exporter": "python",
   "pygments_lexer": "ipython3",
   "version": "3.10.12"
  }
 },
 "nbformat": 4,
 "nbformat_minor": 4
}
