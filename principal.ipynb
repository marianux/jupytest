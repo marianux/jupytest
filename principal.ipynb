{
 "cells": [
  {
   "cell_type": "markdown",
   "metadata": {},
   "source": [
    "<img src=\"./logo_UTN.svg\" align=\"right\" width=\"150\" /> \n",
    "\n",
    "#### Teoría de Circuitos II\n",
    "\n",
    "## Notebooks Ejemplos \n",
    "\n",
    "#### Por Mariano Llamedo Soria\n",
    "\n"
   ]
  },
  {
   "cell_type": "markdown",
   "metadata": {},
   "source": [
    "\n",
    "En los siguientes notebooks se encuentran ejemplos de la asignatura *Teoría de los Circuitos 2* (TC2) de la Universidad Tecnológica Nacional, en Buenos Aires, Argentina. En la mayoría se utiliza la librería **PyTC2** como apoyatura didáctica.\n",
    "&nbsp; \n",
    "\n",
    "\n",
    " * [Secciones de Segundo Orden](clase&#32;1&#32;-&#32;parametrizacion&#32;SOS&#32;pasabajos.ipynb)\n",
    " \n",
    "\n",
    " * [Tutorial de Jupyter Notebook: Rotador de Fase](rotador_de_fase.ipynb)\n",
    "\n",
    "\n",
    " * [Teoría de Filtrado Moderna: Funciones de aproximación](ComparativaOrdenes.ipynb)\n",
    "\n",
    "\n",
    " * [Análisis de un filtro pasabajo activo Sallen-Key](Sallen-Key&#32;sensibilidad.ipynb)\n",
    "\n",
    "\n",
    " * [Problema desafío: Electrocardiografía para uso clínico](desafio_filtro_ECG-Solución&#32;propuesta.ipynb)\n",
    "\n",
    "\n",
    " * [Laboratorio de filtros digitales: Procesamiento de señales electrocardiográficas](Laboratorio&#32;de&#32;filtrado&#32;digital.ipynb)\n"
   ]
  }
 ],
 "metadata": {
  "kernelspec": {
   "display_name": "Python 3 (ipykernel)",
   "language": "python",
   "name": "python3"
  },
  "language_info": {
   "codemirror_mode": {
    "name": "ipython",
    "version": 3
   },
   "file_extension": ".py",
   "mimetype": "text/x-python",
   "name": "python",
   "nbconvert_exporter": "python",
   "pygments_lexer": "ipython3",
   "version": "3.10.6"
  }
 },
 "nbformat": 4,
 "nbformat_minor": 2
}
