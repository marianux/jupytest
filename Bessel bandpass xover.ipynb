{
 "cells": [
  {
   "cell_type": "markdown",
   "metadata": {},
   "source": [
    "#### Teoría de Circuitos II\n",
    "<img src=\"./logo_UTN.svg\" align=\"right\" width=\"150\" /> \n",
    "\n",
    "# Filtros de crossover de Bessel-Thompson\n",
    "#### Dr. Ing. Mariano Llamedo Soria\n",
    "Grupo de Investigación en Bioingeniería (GIBIO)\n"
   ]
  },
  {
   "cell_type": "markdown",
   "metadata": {},
   "source": [
    "En el siguiente documento se presenta un ejemplo de aplicación de la aproximación de Bessel-Thompson para el diseño de un esquema de crossover.\n",
    "\n",
    "Basado en la nota técnica disponible [online](https://www.ranecommercial.com/legacy/note147.html).\n",
    "\n",
    "#### Concepto de demora\n",
    "\n",
    "bla\n",
    "\n",
    "\n",
    "#### Inicialización\n",
    "\n",
    "bla"
   ]
  },
  {
   "cell_type": "code",
   "execution_count": 1,
   "metadata": {},
   "outputs": [],
   "source": [
    "import numpy as np\n",
    "import sympy as sp\n",
    "from IPython.display import display\n",
    "from pytc2.general import print_subtitle, print_latex, a_equal_b_latex_s\n",
    "from pytc2.sistemas_lineales import pretty_print_bicuad_omegayq, pretty_print_lti, s, tf2sos_analog, pretty_print_SOS, analyze_sys, tfadd\n",
    "\n",
    "import matplotlib as mpl\n",
    "from matplotlib import pyplot as plt\n",
    "#%%  Inicialización de librerías\n",
    "# Setup inline graphics: Esto lo hacemos para que el tamaño de la salida, \n",
    "# sea un poco más adecuada al tamaño del documento\n",
    "mpl.rcParams['figure.figsize'] = (10,10)\n",
    "# gráficos interactivos en jupyter\n",
    "\n",
    "# %matplotlib ipympl\n",
    "%matplotlib inline\n",
    "\n",
    "\n",
    "# un módulo adaptado a mis necesidades\n",
    "from splane import bodePlot, pzmap\n",
    "\n",
    "\n",
    "#%% Esto tiene que ver con cuestiones de presentación de los gráficos,\n",
    "# NO ES IMPORTANTE\n",
    "fig_sz_x = 12\n",
    "fig_sz_y = 10\n",
    "fig_dpi = 80 # dpi\n",
    "\n",
    "fig_font_family = 'Ubuntu'\n",
    "fig_font_size = 16\n",
    "\n",
    "plt.rcParams.update({'font.size':fig_font_size})\n",
    "plt.rcParams.update({'font.family':fig_font_family})\n",
    "\n"
   ]
  },
  {
   "cell_type": "markdown",
   "metadata": {},
   "source": [
    "#### Demora para un sistema de primer orden\n",
    "\n",
    "bla"
   ]
  },
  {
   "cell_type": "code",
   "execution_count": 2,
   "metadata": {},
   "outputs": [
    {
     "data": {
      "text/latex": [
       "$\\displaystyle T_1(s)=\\frac{\\sigma_{p}}{\\sigma_{p} + s}$"
      ],
      "text/plain": [
       "<IPython.core.display.Math object>"
      ]
     },
     "metadata": {},
     "output_type": "display_data"
    },
    {
     "data": {
      "text/latex": [
       "$\\displaystyle T_1(j\\omega)=\\frac{\\sigma_{p}}{i \\omega + \\sigma_{p}}$"
      ],
      "text/plain": [
       "<IPython.core.display.Math object>"
      ]
     },
     "metadata": {},
     "output_type": "display_data"
    },
    {
     "data": {
      "text/latex": [
       "$\\displaystyle \\phi_{T1}(\\omega)=- \\operatorname{atan}{\\left(\\frac{\\omega}{\\sigma_{p}} \\right)}$"
      ],
      "text/plain": [
       "<IPython.core.display.Math object>"
      ]
     },
     "metadata": {},
     "output_type": "display_data"
    },
    {
     "data": {
      "text/latex": [
       "$\\displaystyle D_{T1}(\\omega)=\\frac{\\sigma_{p}}{\\omega^{2} + \\sigma_{p}^{2}}$"
      ],
      "text/plain": [
       "<IPython.core.display.Math object>"
      ]
     },
     "metadata": {},
     "output_type": "display_data"
    },
    {
     "data": {
      "text/markdown": [
       "#### Demora para un pasabajo de primer orden"
      ],
      "text/plain": [
       "<IPython.core.display.Markdown object>"
      ]
     },
     "metadata": {},
     "output_type": "display_data"
    },
    {
     "data": {
      "text/latex": [
       "$\\displaystyle D_{T1}(\\omega=0)=\\frac{1}{\\sigma_{p}}$"
      ],
      "text/plain": [
       "<IPython.core.display.Math object>"
      ]
     },
     "metadata": {},
     "output_type": "display_data"
    }
   ],
   "source": [
    "w0z, w0p, sigz, sigp, Qz, Qp, w = sp.symbols('\\omega_{0z},\\omega_{0p}, \\sigma_z, \\sigma_p, Q_z, Q_p, \\omega', real = True)\n",
    "j = sp.I\n",
    "\n",
    "\n",
    "T1s =  sigp/(s + sigp )\n",
    "#T1s = (s + sigz )/(s + sigp )\n",
    "\n",
    "print_latex(a_equal_b_latex_s('T_1(s)', T1s  ))\n",
    "\n",
    "T1jw = T1s.subs( {s:j*w} )\n",
    "# T1jw = sigp/(j*w + sigp )\n",
    "# T1jw = (j*w + sigz )/(j*w + sigp )\n",
    "\n",
    "print_latex(a_equal_b_latex_s('T_1(j\\omega)', T1jw  ))\n",
    "\n",
    "phaT1jw = sp.atan( sp.simplify(sp.expand(sp.im(T1jw))) / sp.simplify(sp.expand(sp.re(T1jw))) )\n",
    "\n",
    "DT1 = sp.simplify(sp.expand(-sp.diff(phaT1jw, w))) \n",
    "\n",
    "print_latex(a_equal_b_latex_s('\\phi_{T1}(\\omega)', phaT1jw ))\n",
    "\n",
    "print_latex(a_equal_b_latex_s('D_{T1}(\\omega)', DT1 ))\n",
    "\n",
    "# print_subtitle('Demora para un pasabajo de primer orden')\n",
    "print_subtitle('Demora para un pasabajo de primer orden')\n",
    "\n",
    "print_latex(a_equal_b_latex_s('D_{T1}(\\omega=0)', sp.simplify(sp.expand(DT1.subs( {w:0} ))) ))\n",
    "\n",
    "# print_latex(a_equal_b_latex_s('D_{T1}(\\omega=1)', sp.simplify(sp.expand(DT1.subs( {w:sigp} ))) ))\n"
   ]
  },
  {
   "cell_type": "markdown",
   "metadata": {},
   "source": [
    "#### Demora para un sistema de segundo orden (SOS)\n",
    "\n",
    "bla\n"
   ]
  },
  {
   "cell_type": "code",
   "execution_count": 3,
   "metadata": {},
   "outputs": [
    {
     "data": {
      "text/markdown": [
       "#### SOS pasabajo"
      ],
      "text/plain": [
       "<IPython.core.display.Markdown object>"
      ]
     },
     "metadata": {},
     "output_type": "display_data"
    },
    {
     "data": {
      "text/latex": [
       "$\\displaystyle T_2(s)=\\frac{\\omega_{0p}^{2}}{\\omega_{0p}^{2} + s^{2} + \\frac{\\omega_{0p} s}{Q_{p}}}$"
      ],
      "text/plain": [
       "<IPython.core.display.Math object>"
      ]
     },
     "metadata": {},
     "output_type": "display_data"
    },
    {
     "data": {
      "text/latex": [
       "$\\displaystyle T_2(j\\omega)=\\frac{\\omega_{0p}^{2}}{- \\omega^{2} + \\omega_{0p}^{2} + \\frac{i \\omega \\omega_{0p}}{Q_{p}}}$"
      ],
      "text/plain": [
       "<IPython.core.display.Math object>"
      ]
     },
     "metadata": {},
     "output_type": "display_data"
    },
    {
     "data": {
      "text/markdown": [
       "#### Factorizado en raíces"
      ],
      "text/plain": [
       "<IPython.core.display.Markdown object>"
      ]
     },
     "metadata": {},
     "output_type": "display_data"
    },
    {
     "data": {
      "text/latex": [
       "$\\displaystyle T_2(s)=\\left(- \\omega_{0p} \\left(- \\frac{\\sqrt{- \\left(2 Q_{p} - 1\\right) \\left(2 Q_{p} + 1\\right)}}{2 Q_{p}} - \\frac{1}{2 Q_{p}}\\right) + s\\right) \\left(- \\omega_{0p} \\left(\\frac{\\sqrt{- \\left(2 Q_{p} - 1\\right) \\left(2 Q_{p} + 1\\right)}}{2 Q_{p}} - \\frac{1}{2 Q_{p}}\\right) + s\\right) \\left(- \\omega_{0z} \\left(- \\frac{\\sqrt{- \\left(2 Q_{z} - 1\\right) \\left(2 Q_{z} + 1\\right)}}{2 Q_{z}} - \\frac{1}{2 Q_{z}}\\right) + s\\right) \\left(- \\omega_{0z} \\left(\\frac{\\sqrt{- \\left(2 Q_{z} - 1\\right) \\left(2 Q_{z} + 1\\right)}}{2 Q_{z}} - \\frac{1}{2 Q_{z}}\\right) + s\\right)$"
      ],
      "text/plain": [
       "<IPython.core.display.Math object>"
      ]
     },
     "metadata": {},
     "output_type": "display_data"
    },
    {
     "data": {
      "text/latex": [
       "$\\displaystyle T_2(j\\omega)=\\left(i \\omega - \\omega_{0p} \\left(- \\frac{\\sqrt{- \\left(2 Q_{p} - 1\\right) \\left(2 Q_{p} + 1\\right)}}{2 Q_{p}} - \\frac{1}{2 Q_{p}}\\right)\\right) \\left(i \\omega - \\omega_{0p} \\left(\\frac{\\sqrt{- \\left(2 Q_{p} - 1\\right) \\left(2 Q_{p} + 1\\right)}}{2 Q_{p}} - \\frac{1}{2 Q_{p}}\\right)\\right) \\left(i \\omega - \\omega_{0z} \\left(- \\frac{\\sqrt{- \\left(2 Q_{z} - 1\\right) \\left(2 Q_{z} + 1\\right)}}{2 Q_{z}} - \\frac{1}{2 Q_{z}}\\right)\\right) \\left(i \\omega - \\omega_{0z} \\left(\\frac{\\sqrt{- \\left(2 Q_{z} - 1\\right) \\left(2 Q_{z} + 1\\right)}}{2 Q_{z}} - \\frac{1}{2 Q_{z}}\\right)\\right)$"
      ],
      "text/plain": [
       "<IPython.core.display.Math object>"
      ]
     },
     "metadata": {},
     "output_type": "display_data"
    },
    {
     "name": "stderr",
     "output_type": "stream",
     "text": [
      "\n",
      "KeyboardInterrupt\n",
      "\n"
     ]
    }
   ],
   "source": [
    "print_subtitle('SOS pasabajo')\n",
    "T2s = w0p**2/(s**2+ s*w0p/Qp + w0p**2)\n",
    "\n",
    "#print_subtitle('SOS bicuadrático')\n",
    "#T2s = (s**2+ s*w0z/Qz + w0z**2)/(s**2+ s*w0p/Qp + w0p**2)\n",
    "\n",
    "print_latex(a_equal_b_latex_s('T_2(s)', T2s  ))\n",
    "\n",
    "T2jw = T2s.subs( {s:j*w} )\n",
    "\n",
    "print_latex(a_equal_b_latex_s('T_2(j\\omega)', T2jw  ))\n",
    "\n",
    "# factorizando polinomios no funcionó\n",
    "num_roots = sp.roots( (s**2+ s*w0z/Qz + w0z**2).as_poly(s) )\n",
    "den_roots = sp.roots( (s**2+ s*w0p/Qp + w0p**2).as_poly(s) )\n",
    "\n",
    "T2sz = sp.Rational(1.)\n",
    "for root, multiplicity in num_roots.items():\n",
    "    for ii in range(multiplicity):\n",
    "        T2sz = T2sz * (s - root)\n",
    "\n",
    "T2sp = sp.Rational(1.)    \n",
    "for root, multiplicity in den_roots.items():\n",
    "    for ii in range(multiplicity):\n",
    "        T2sp = T2sp / (s - root)\n",
    "        \n",
    "# Analizo la demora del num y den por separado, ya que num resta demora y den suma\n",
    "T2s = T2sz/T2sp \n",
    "\n",
    "print_subtitle('Factorizado en raíces')\n",
    "\n",
    "print_latex(a_equal_b_latex_s('T_2(s)', T2s  ))\n",
    "\n",
    "T2jw = T2s.subs( {s:j*w} )\n",
    "# T2jw = w0p**2/(-w**2+ j*w*w0p/Qp + w0p**2)\n",
    "# T2jw = (-w**2+ j*w*w0z/Qz + w0z**2)/(-w**2+ j*w*w0p/Qp + w0p**2)\n",
    "\n",
    "T2zjw = T2sz.subs( {s:j*w} )\n",
    "T2pjw = T2sp.subs( {s:j*w} )\n",
    "\n",
    "print_latex(a_equal_b_latex_s('T_2(j\\omega)', T2jw  ))\n",
    "\n",
    "phaT2jw = sp.atan( sp.simplify(sp.expand(sp.im(T2jw))) / sp.simplify(sp.expand(sp.re(T2jw))) )\n",
    "phaT2zjw = sp.atan( sp.simplify(sp.expand(  sp.simplify(sp.expand(sp.im(T2zjw))) / sp.simplify(sp.expand(sp.re(T2zjw))) )) )\n",
    "phaT2pjw = sp.atan( sp.simplify(sp.expand( sp.simplify(sp.expand(sp.im(T2pjw))) / sp.simplify(sp.expand(sp.re(T2pjw))) )) )\n",
    "#phaT2jw = phaT2zjw + phaT2pjw \n",
    "\n",
    "DT2 = sp.simplify(sp.expand(-sp.diff(phaT2jw, w)))\n",
    "DT2z = sp.simplify(sp.expand(-sp.diff(phaT2zjw, w)))\n",
    "DT2p = sp.simplify(sp.expand(-sp.diff(phaT2pjw, w)))\n",
    "\n",
    "#DT2 = DT2z + DT2p\n",
    "\n",
    "print_subtitle('Fase')\n",
    "\n",
    "print_latex(a_equal_b_latex_s('\\phi_{T2}(\\omega)', phaT2jw ))\n",
    "\n",
    "print_subtitle('Demora')\n",
    "\n",
    "print_latex(a_equal_b_latex_s('D_{T2}(\\omega)', DT2  ))\n",
    "\n",
    "print_latex(a_equal_b_latex_s('D_{T2}(\\omega=0)', sp.simplify(sp.expand(DT2.subs( {w:0} ))) ))\n",
    "\n",
    "print_latex(a_equal_b_latex_s('D_{T2}(\\omega=\\omega_{0p})', sp.simplify(sp.expand(DT2.subs( {w:w0p} ))) ))\n",
    "# print_latex(a_equal_b_latex_s('D_{T2}(\\omega=\\omega_{0p};\\omega_{0p}=1)', sp.simplify(sp.expand(DT2.subs( {w:1, w0p:1} ))) ))\n"
   ]
  },
  {
   "cell_type": "markdown",
   "metadata": {},
   "source": [
    "#### Casos particulares de SOS: Pasabajos normalizado\n",
    "\n",
    "bla\n"
   ]
  },
  {
   "cell_type": "code",
   "execution_count": 14,
   "metadata": {},
   "outputs": [
    {
     "data": {
      "text/markdown": [
       "#### SOS pasabajo normalizado"
      ],
      "text/plain": [
       "<IPython.core.display.Markdown object>"
      ]
     },
     "metadata": {},
     "output_type": "display_data"
    },
    {
     "data": {
      "text/latex": [
       "$\\displaystyle T_2(s)=\\frac{1}{s^{2} + 1 + \\frac{s}{Q_{p}}}$"
      ],
      "text/plain": [
       "<IPython.core.display.Math object>"
      ]
     },
     "metadata": {},
     "output_type": "display_data"
    },
    {
     "data": {
      "text/latex": [
       "$\\displaystyle T_2(j\\omega)=\\frac{1}{- \\omega^{2} + 1 + \\frac{i \\omega}{Q_{p}}}$"
      ],
      "text/plain": [
       "<IPython.core.display.Math object>"
      ]
     },
     "metadata": {},
     "output_type": "display_data"
    },
    {
     "data": {
      "text/markdown": [
       "#### Fase"
      ],
      "text/plain": [
       "<IPython.core.display.Markdown object>"
      ]
     },
     "metadata": {},
     "output_type": "display_data"
    },
    {
     "data": {
      "text/latex": [
       "$\\displaystyle \\phi_{T2}(\\omega)=- \\operatorname{atan}{\\left(\\frac{\\omega}{Q_{p} \\left(1 - \\omega^{2}\\right)} \\right)}$"
      ],
      "text/plain": [
       "<IPython.core.display.Math object>"
      ]
     },
     "metadata": {},
     "output_type": "display_data"
    },
    {
     "data": {
      "text/markdown": [
       "#### Demora"
      ],
      "text/plain": [
       "<IPython.core.display.Markdown object>"
      ]
     },
     "metadata": {},
     "output_type": "display_data"
    },
    {
     "data": {
      "text/latex": [
       "$\\displaystyle D_{T2}(\\omega)=\\frac{Q_{p} \\left(\\omega^{2} + 1\\right)}{Q_{p}^{2} \\omega^{4} - 2 Q_{p}^{2} \\omega^{2} + Q_{p}^{2} + \\omega^{2}}$"
      ],
      "text/plain": [
       "<IPython.core.display.Math object>"
      ]
     },
     "metadata": {},
     "output_type": "display_data"
    },
    {
     "data": {
      "text/latex": [
       "$\\displaystyle D_{T2}(\\omega=0)=\\frac{1}{Q_{p}}$"
      ],
      "text/plain": [
       "<IPython.core.display.Math object>"
      ]
     },
     "metadata": {},
     "output_type": "display_data"
    },
    {
     "data": {
      "text/latex": [
       "$\\displaystyle D_{T2}(\\omega=\\omega_{0p})=2 Q_{p}$"
      ],
      "text/plain": [
       "<IPython.core.display.Math object>"
      ]
     },
     "metadata": {},
     "output_type": "display_data"
    }
   ],
   "source": [
    "print_subtitle('SOS pasabajo normalizado')\n",
    "T2s = 1/(s**2+ s*1/Qp + 1)\n",
    "\n",
    "print_latex(a_equal_b_latex_s('T_2(s)', T2s  ))\n",
    "\n",
    "T2jw = T2s.subs( {s:j*w} )\n",
    "\n",
    "print_latex(a_equal_b_latex_s('T_2(j\\omega)', T2jw  ))\n",
    "\n",
    "phaT2jw = sp.atan( sp.simplify(sp.expand(sp.im(T2jw))) / sp.simplify(sp.expand(sp.re(T2jw))) )\n",
    "\n",
    "DT2 = sp.simplify(sp.expand(-sp.diff(phaT2jw, w)))\n",
    "\n",
    "print_subtitle('Fase')\n",
    "\n",
    "print_latex(a_equal_b_latex_s('\\phi_{T2}(\\omega)', phaT2jw ))\n",
    "\n",
    "print_subtitle('Demora')\n",
    "\n",
    "print_latex(a_equal_b_latex_s('D_{T2}(\\omega)', DT2  ))\n",
    "\n",
    "print_latex(a_equal_b_latex_s('D_{T2}(\\omega=0)', sp.simplify(sp.expand(DT2.subs( {w:0} ))) ))\n",
    "\n",
    "print_latex(a_equal_b_latex_s('D_{T2}(\\omega=\\omega_{0p})', sp.simplify(sp.expand(DT2.subs( {w:1} ))) ))\n"
   ]
  },
  {
   "cell_type": "markdown",
   "metadata": {},
   "source": [
    "#### Casos particulares de SOS: Pasatodo\n",
    "\n",
    "bla\n"
   ]
  },
  {
   "cell_type": "code",
   "execution_count": 9,
   "metadata": {},
   "outputs": [
    {
     "data": {
      "text/markdown": [
       "#### SOS pasatodo normalizado"
      ],
      "text/plain": [
       "<IPython.core.display.Markdown object>"
      ]
     },
     "metadata": {},
     "output_type": "display_data"
    },
    {
     "data": {
      "text/latex": [
       "$\\displaystyle T_2(s)=\\frac{s^{2} + 1 - \\frac{s}{Q_{p}}}{s^{2} + 1 + \\frac{s}{Q_{p}}}$"
      ],
      "text/plain": [
       "<IPython.core.display.Math object>"
      ]
     },
     "metadata": {},
     "output_type": "display_data"
    },
    {
     "data": {
      "text/latex": [
       "$\\displaystyle T_2(j\\omega)=\\frac{- \\omega^{2} + 1 - \\frac{i \\omega}{Q_{p}}}{- \\omega^{2} + 1 + \\frac{i \\omega}{Q_{p}}}$"
      ],
      "text/plain": [
       "<IPython.core.display.Math object>"
      ]
     },
     "metadata": {},
     "output_type": "display_data"
    },
    {
     "data": {
      "text/markdown": [
       "#### Fase"
      ],
      "text/plain": [
       "<IPython.core.display.Markdown object>"
      ]
     },
     "metadata": {},
     "output_type": "display_data"
    },
    {
     "data": {
      "text/latex": [
       "$\\displaystyle \\phi_{T2}(\\omega)=\\operatorname{atan}{\\left(\\frac{2 Q_{p} \\omega \\left(\\omega^{2} - 1\\right) \\left(Q_{p}^{2} \\omega^{4} - 2 Q_{p}^{2} \\omega^{2} + Q_{p}^{2} + \\omega^{2}\\right)}{\\left(Q_{p}^{2} \\left(\\omega^{4} - 2 \\omega^{2} + 1\\right) + \\omega^{2}\\right) \\left(Q_{p}^{2} \\omega^{4} - 2 Q_{p}^{2} \\omega^{2} + Q_{p}^{2} - \\omega^{2}\\right)} \\right)}$"
      ],
      "text/plain": [
       "<IPython.core.display.Math object>"
      ]
     },
     "metadata": {},
     "output_type": "display_data"
    },
    {
     "data": {
      "text/markdown": [
       "#### Demora"
      ],
      "text/plain": [
       "<IPython.core.display.Markdown object>"
      ]
     },
     "metadata": {},
     "output_type": "display_data"
    },
    {
     "data": {
      "text/latex": [
       "$\\displaystyle D_{T2}(\\omega)=\\frac{2 Q_{p} \\left(\\omega^{2} + 1\\right)}{Q_{p}^{2} \\omega^{4} - 2 Q_{p}^{2} \\omega^{2} + Q_{p}^{2} + \\omega^{2}}$"
      ],
      "text/plain": [
       "<IPython.core.display.Math object>"
      ]
     },
     "metadata": {},
     "output_type": "display_data"
    },
    {
     "data": {
      "text/latex": [
       "$\\displaystyle D_{T2}(\\omega=0)=\\frac{2}{Q_{p}}$"
      ],
      "text/plain": [
       "<IPython.core.display.Math object>"
      ]
     },
     "metadata": {},
     "output_type": "display_data"
    },
    {
     "data": {
      "text/latex": [
       "$\\displaystyle D_{T2}(\\omega=1)=4 Q_{p}$"
      ],
      "text/plain": [
       "<IPython.core.display.Math object>"
      ]
     },
     "metadata": {},
     "output_type": "display_data"
    }
   ],
   "source": [
    "print_subtitle('SOS pasatodo normalizado')\n",
    "T2s = (s**2 - s*w0p/Qp + w0p**2)/(s**2+ s*w0p/Qp + w0p**2)\n",
    "T2s = T2s.subs( {w0p:1} )\n",
    "\n",
    "print_latex(a_equal_b_latex_s('T_2(s)', T2s  ))\n",
    "\n",
    "T2jw = T2s.subs( {s:j*w} )\n",
    "\n",
    "print_latex(a_equal_b_latex_s('T_2(j\\omega)', T2jw  ))\n",
    "\n",
    "phaT2jw = sp.atan( sp.simplify(sp.expand(sp.im(T2jw))) / sp.simplify(sp.expand(sp.re(T2jw))) )\n",
    "\n",
    "DT2 = sp.simplify(sp.expand(-sp.diff(phaT2jw, w)))\n",
    "\n",
    "print_subtitle('Fase')\n",
    "\n",
    "print_latex(a_equal_b_latex_s('\\phi_{T2}(\\omega)', phaT2jw ))\n",
    "\n",
    "print_subtitle('Demora')\n",
    "\n",
    "print_latex(a_equal_b_latex_s('D_{T2}(\\omega)', DT2  ))\n",
    "\n",
    "print_latex(a_equal_b_latex_s('D_{T2}(\\omega=0)', sp.simplify(sp.expand(DT2.subs( {w:0} ))) ))\n",
    "\n",
    "print_latex(a_equal_b_latex_s('D_{T2}(\\omega=1)', sp.simplify(sp.expand(DT2.subs( {w:1} ))) ))\n"
   ]
  },
  {
   "cell_type": "markdown",
   "metadata": {},
   "source": [
    "#### Simulación numérica de respuestas Bessel-Thompson\n",
    "\n",
    "bla\n"
   ]
  },
  {
   "cell_type": "code",
   "execution_count": null,
   "metadata": {},
   "outputs": [],
   "source": [
    "import scipy.signal as sig\n",
    "import matplotlib.pyplot as plt\n",
    "\n",
    "nn = 2\n",
    "print_subtitle('Bessel pasabajo de orden {:d}'.format(nn))\n",
    "\n",
    "omega_norm = ['mag', 'phase', 'delay' ]\n",
    "all_lp = []\n",
    "\n",
    "for this_norm in omega_norm:\n",
    "    \n",
    "    z,p,k = sig.besselap(nn, norm=this_norm)\n",
    "    \n",
    "    num_lp, den_lp = sig.zpk2tf( z,p,k)\n",
    "\n",
    "    tf_lp = sig.TransferFunction(num_lp, den_lp)\n",
    "\n",
    "    all_lp += [tf_lp]\n",
    "\n",
    "    print_subtitle('Normalización por {:s}'.format(this_norm))\n",
    "    \n",
    "    sos_lp = tf2sos_analog(num_lp, den_lp)\n",
    "    \n",
    "    pretty_print_SOS(sos_lp, mode='omegayq')\n",
    "\n",
    "\n",
    "# ver \"flatest\" en la ApNote de Rane (Normalizado a .879 de norm=\"phase\")\n",
    "omega_norm += ['flatest']\n",
    "\n",
    "z,p,k = sig.besselap(nn, norm='phase')\n",
    "\n",
    "num_lp, den_lp = sig.zpk2tf( z,p,k)\n",
    "\n",
    "num_lp, den_lp = sig.lp2lp( num_lp, den_lp, 0.879)\n",
    "\n",
    "tf_lp = sig.TransferFunction(num_lp, den_lp)\n",
    "\n",
    "all_lp += [tf_lp]\n",
    "\n",
    "print_subtitle('Normalización *flatest*')\n",
    "\n",
    "sos_lp = tf2sos_analog(num_lp, den_lp)\n",
    "\n",
    "pretty_print_SOS(sos_lp, mode='omegayq')\n",
    "\n",
    "_,_,_,_, = analyze_sys(all_lp, omega_norm)\n",
    "\n"
   ]
  },
  {
   "cell_type": "code",
   "execution_count": null,
   "metadata": {},
   "outputs": [],
   "source": [
    "print_subtitle('Bessel pasa-altas de orden {:d}'.format(nn))\n",
    "\n",
    "num_hp, den_hp = sig.lp2hp(num_lp, den_lp)\n",
    "tf_hp = sig.TransferFunction(num_hp, den_hp)\n",
    "\n",
    "pretty_print_lti(tf_lp)\n",
    "pretty_print_lti(tf_hp)\n",
    "\n",
    "\n",
    "# atentos al signo menos por la fase\n",
    "#sos_hp = tf2sos_analog(num_hp, den_hp )\n",
    "sos_hp = tf2sos_analog(num_hp, den_hp )\n",
    "\n",
    "pretty_print_SOS(sos_hp, mode='omegayq')\n",
    "num_hp"
   ]
  },
  {
   "cell_type": "markdown",
   "metadata": {},
   "source": [
    "#### Composición del crossover Bessel-Thompson\n",
    "\n",
    "bla\n"
   ]
  },
  {
   "cell_type": "code",
   "execution_count": null,
   "metadata": {},
   "outputs": [],
   "source": [
    "print_subtitle('Bessel crossover de orden {:d}'.format(nn))\n",
    "\n",
    "all_xover = []\n",
    "\n",
    "pretty_print_lti(tfXover)\n",
    "pretty_print_SOS(sos_xover, mode='omegayq')\n",
    "\n",
    "#_,_,_,_, = analyze_sys([tf_lp, tf_hp, tfXover])\n",
    "_,_,_,_, = analyze_sys( sos_xover)\n",
    "# analyze_sys(sig.TransferFunction(num, den)) \n"
   ]
  }
 ],
 "metadata": {
  "kernelspec": {
   "display_name": "Python 3 (ipykernel)",
   "language": "python",
   "name": "python3"
  },
  "language_info": {
   "codemirror_mode": {
    "name": "ipython",
    "version": 3
   },
   "file_extension": ".py",
   "mimetype": "text/x-python",
   "name": "python",
   "nbconvert_exporter": "python",
   "pygments_lexer": "ipython3",
   "version": "3.10.12"
  }
 },
 "nbformat": 4,
 "nbformat_minor": 4
}
